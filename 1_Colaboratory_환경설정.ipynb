{
  "nbformat": 4,
  "nbformat_minor": 0,
  "metadata": {
    "kernelspec": {
      "display_name": "Python 3",
      "language": "python",
      "name": "python3"
    },
    "language_info": {
      "codemirror_mode": {
        "name": "ipython",
        "version": 3
      },
      "file_extension": ".py",
      "mimetype": "text/x-python",
      "name": "python",
      "nbconvert_exporter": "python",
      "pygments_lexer": "ipython3",
      "version": "3.7.6"
    },
    "colab": {
      "name": "1. Colaboratory 환경설정.ipynb",
      "provenance": [],
      "collapsed_sections": [],
      "include_colab_link": true
    },
    "accelerator": "GPU"
  },
  "cells": [
    {
      "cell_type": "markdown",
      "metadata": {
        "id": "view-in-github",
        "colab_type": "text"
      },
      "source": [
        "<a href=\"https://colab.research.google.com/github/James-kh-oh/James-kh-oh/blob/main/1_Colaboratory_%ED%99%98%EA%B2%BD%EC%84%A4%EC%A0%95.ipynb\" target=\"_parent\"><img src=\"https://colab.research.google.com/assets/colab-badge.svg\" alt=\"Open In Colab\"/></a>"
      ]
    },
    {
      "cell_type": "markdown",
      "metadata": {
        "id": "g7SBv8nhv8Fy"
      },
      "source": [
        "# Workflow\n",
        "1. Google Colaboratory(이하 Colab) 설명\n",
        "2. GPU 설정\n",
        "3. Google drive 연동\n",
        "4. Github 연동\n"
      ]
    },
    {
      "cell_type": "code",
      "metadata": {
        "colab": {
          "base_uri": "https://localhost:8080/"
        },
        "id": "zI8ZkD-ndQ-g",
        "outputId": "4d1736d6-92b8-4c71-ab39-e3697986dc40"
      },
      "source": [
        "import numpy as np\n",
        "\n",
        "a = 'Hello world'\n",
        "\n",
        "print(a)"
      ],
      "execution_count": 1,
      "outputs": [
        {
          "output_type": "stream",
          "name": "stdout",
          "text": [
            "Hello world\n"
          ]
        }
      ]
    },
    {
      "cell_type": "markdown",
      "metadata": {
        "id": "B0oABmMCxko9"
      },
      "source": [
        "# 1. Colab 설명\n",
        "구글 Resource를 사용하여 Jupyter noteboo과 유사한 환경에서 Python을 작성하고 실행할 수 있는 서비스.\n",
        "https://colab.research.google.com/notebooks/intro.ipynb"
      ]
    },
    {
      "cell_type": "markdown",
      "metadata": {
        "id": "0_zl0nNpxnEV"
      },
      "source": [
        "# 2. GPU 설정\n",
        "- Colab에서는 무료로 GPU 환경에서의 분석이 가능함.\n",
        "- 메뉴에서 `런타임 > 런타임 유형변경 > 팝업창에서 '하드웨어 가속기' GPU로 설정 후 저장` \n"
      ]
    },
    {
      "cell_type": "markdown",
      "metadata": {
        "id": "AnG4j5olyiWf"
      },
      "source": [
        "# 3. Google drive 연동\n",
        "Google drive를 연동하여 외장 메모리로 사용할 수 있음.\n",
        "\n",
        "Colab 자체에도 데이터를 저장할 수 있는 메모리가 있지만, 장시간 사용을 하지 않을 경우 세션 초기화로 인하여 저장된 데이터가 모두 삭제됨. \n",
        "\n",
        "따라서. 지속적인 연구로서 Colab을 활용할 경우 Google drive를 이용하는 것을 권장.\n"
      ]
    },
    {
      "cell_type": "markdown",
      "metadata": {
        "id": "bMjqV7Hr1BO-"
      },
      "source": [
        "- 코드 실행 후 결과창에 나온 URL에 접속\n",
        "- 구글 로그인 후 제공되는 인증코드를 복사 후 결과창에 붙여넣기 \n"
      ]
    },
    {
      "cell_type": "code",
      "metadata": {
        "id": "nCxH-zh7Cbhb",
        "colab": {
          "base_uri": "https://localhost:8080/"
        },
        "outputId": "dbf51ec8-72c3-4aee-8e38-1a26098e26ef"
      },
      "source": [
        " from google.colab import drive\n",
        "drive.mount('/content/drive')"
      ],
      "execution_count": 2,
      "outputs": [
        {
          "output_type": "stream",
          "name": "stdout",
          "text": [
            "Mounted at /content/drive\n"
          ]
        }
      ]
    },
    {
      "cell_type": "markdown",
      "metadata": {
        "id": "0vFyjdKQ1WAt"
      },
      "source": [
        "- /content/drive에 Google drive가 mount 되었음을 확인할 수 있음."
      ]
    },
    {
      "cell_type": "markdown",
      "metadata": {
        "id": "4rWqTFPPTcoL"
      },
      "source": [
        "# 4. Github 연동\n",
        "Colab 과 Github 연동을 통해 파일을 받거나 업로드하여 소스를 관리할 수 있다.\n",
        "- Git clone: `!git clone path_to_git`\n",
        "- Git 업로드: `파일 > Github에 사본저장 > 이후 절차 수행`\n",
        "  - [참고링크](https://league-cat.tistory.com/305)\n"
      ]
    },
    {
      "cell_type": "code",
      "metadata": {
        "id": "0kUy2IP0Ters",
        "colab": {
          "base_uri": "https://localhost:8080/"
        },
        "outputId": "6dd41259-718a-41f9-deaf-27a4c7823f64"
      },
      "source": [
        "# Git clone\n",
        "# 이후, 왼쪽 파일탭에 프로젝트가 다운로드 되어있음을 확인할 수 있다\n",
        "# !git clone https://gitlab.com/아이디/프로젝트이름.git\n",
        "!git clone https://gitlab.com/James-kh-oh/Hello-world.git"
      ],
      "execution_count": 3,
      "outputs": [
        {
          "output_type": "stream",
          "name": "stdout",
          "text": [
            "Cloning into 'Hello-world'...\n",
            "fatal: could not read Username for 'https://gitlab.com': No such device or address\n"
          ]
        }
      ]
    }
  ]
}